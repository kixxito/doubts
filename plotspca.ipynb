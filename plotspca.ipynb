{
 "cells": [
  {
   "cell_type": "markdown",
   "metadata": {},
   "source": [
    "# Project: Identify Customer Segments\n",
    "\n",
    "In this project, you will apply unsupervised learning techniques to identify segments of the population that form the core customer base for a mail-order sales company in Germany. These segments can then be used to direct marketing campaigns towards audiences that will have the highest expected rate of returns. The data that you will use has been provided by our partners at Bertelsmann Arvato Analytics, and represents a real-life data science task.\n",
    "\n",
    "This notebook will help you complete this task by providing a framework within which you will perform your analysis steps. In each step of the project, you will see some text describing the subtask that you will perform, followed by one or more code cells for you to complete your work. **Feel free to add additional code and markdown cells as you go along so that you can explore everything in precise chunks.** The code cells provided in the base template will outline only the major tasks, and will usually not be enough to cover all of the minor tasks that comprise it.\n",
    "\n",
    "It should be noted that while there will be precise guidelines on how you should handle certain tasks in the project, there will also be places where an exact specification is not provided. **There will be times in the project where you will need to make and justify your own decisions on how to treat the data.** These are places where there may not be only one way to handle the data. In real-life tasks, there may be many valid ways to approach an analysis task. One of the most important things you can do is clearly document your approach so that other scientists can understand the decisions you've made.\n",
    "\n",
    "At the end of most sections, there will be a Markdown cell labeled **Discussion**. In these cells, you will report your findings for the completed section, as well as document the decisions that you made in your approach to each subtask. **Your project will be evaluated not just on the code used to complete the tasks outlined, but also your communication about your observations and conclusions at each stage.**"
   ]
  },
  {
   "cell_type": "code",
   "execution_count": 1,
   "metadata": {},
   "outputs": [
    {
     "data": {
      "text/plain": [
       "'\\nImport note: The classroom currently uses sklearn version 0.19.\\nIf you need to use an imputer, it is available in sklearn.preprocessing.Imputer,\\ninstead of sklearn.impute as in newer versions of sklearn.\\n'"
      ]
     },
     "execution_count": 1,
     "metadata": {},
     "output_type": "execute_result"
    }
   ],
   "source": [
    "# import libraries here; add more as necessary\n",
    "import numpy as np\n",
    "import pandas as pd\n",
    "import matplotlib.pyplot as plt\n",
    "import seaborn as sns\n",
    "from sklearn import preprocessing\n",
    "from sklearn.preprocessing import Imputer\n",
    "import collections\n",
    "import pickle\n",
    "\n",
    "\n",
    "# magic word for producing visualizations in notebook\n",
    "%matplotlib inline\n",
    "\n",
    "'''\n",
    "Import note: The classroom currently uses sklearn version 0.19.\n",
    "If you need to use an imputer, it is available in sklearn.preprocessing.Imputer,\n",
    "instead of sklearn.impute as in newer versions of sklearn.\n",
    "'''"
   ]
  },
  {
   "cell_type": "markdown",
   "metadata": {},
   "source": [
    "### Step 0: Load the Data\n",
    "\n",
    "There are four files associated with this project (not including this one):\n",
    "\n",
    "- `Udacity_AZDIAS_Subset.csv`: Demographics data for the general population of Germany; 891211 persons (rows) x 85 features (columns).\n",
    "- `Udacity_CUSTOMERS_Subset.csv`: Demographics data for customers of a mail-order company; 191652 persons (rows) x 85 features (columns).\n",
    "- `Data_Dictionary.md`: Detailed information file about the features in the provided datasets.\n",
    "- `AZDIAS_Feature_Summary.csv`: Summary of feature attributes for demographics data; 85 features (rows) x 4 columns\n",
    "\n",
    "Each row of the demographics files represents a single person, but also includes information outside of individuals, including information about their household, building, and neighborhood. You will use this information to cluster the general population into groups with similar demographic properties. Then, you will see how the people in the customers dataset fit into those created clusters. The hope here is that certain clusters are over-represented in the customers data, as compared to the general population; those over-represented clusters will be assumed to be part of the core userbase. This information can then be used for further applications, such as targeting for a marketing campaign.\n",
    "\n",
    "To start off with, load in the demographics data for the general population into a pandas DataFrame, and do the same for the feature attributes summary. Note for all of the `.csv` data files in this project: they're semicolon (`;`) delimited, so you'll need an additional argument in your [`read_csv()`](https://pandas.pydata.org/pandas-docs/stable/generated/pandas.read_csv.html) call to read in the data properly. Also, considering the size of the main dataset, it may take some time for it to load completely.\n",
    "\n",
    "Once the dataset is loaded, it's recommended that you take a little bit of time just browsing the general structure of the dataset and feature summary file. You'll be getting deep into the innards of the cleaning in the first major step of the project, so gaining some general familiarity can help you get your bearings."
   ]
  },
  {
   "cell_type": "code",
   "execution_count": 2,
   "metadata": {},
   "outputs": [],
   "source": [
    "# Load in the general demographics data.\n",
    "azdias = pd.read_csv(\"Udacity_AZDIAS_Subset.csv\", sep=';')\n",
    "\n",
    "# Load in the feature summary file.\n",
    "feat_info = pd.read_csv(\"AZDIAS_Feature_Summary.csv\", sep=';')"
   ]
  },
  {
   "cell_type": "code",
   "execution_count": 3,
   "metadata": {},
   "outputs": [
    {
     "name": "stdout",
     "output_type": "stream",
     "text": [
      "   AGER_TYP  ALTERSKATEGORIE_GROB  ANREDE_KZ  CJT_GESAMTTYP  \\\n",
      "0        -1                     2          1            2.0   \n",
      "1        -1                     1          2            5.0   \n",
      "2        -1                     3          2            3.0   \n",
      "\n",
      "   FINANZ_MINIMALIST  FINANZ_SPARER  FINANZ_VORSORGER  FINANZ_ANLEGER  \\\n",
      "0                  3              4                 3               5   \n",
      "1                  1              5                 2               5   \n",
      "2                  1              4                 1               2   \n",
      "\n",
      "   FINANZ_UNAUFFAELLIGER  FINANZ_HAUSBAUER    ...     PLZ8_ANTG1  PLZ8_ANTG2  \\\n",
      "0                      5                 3    ...            NaN         NaN   \n",
      "1                      4                 5    ...            2.0         3.0   \n",
      "2                      3                 5    ...            3.0         3.0   \n",
      "\n",
      "   PLZ8_ANTG3  PLZ8_ANTG4  PLZ8_BAUMAX  PLZ8_HHZ  PLZ8_GBZ  ARBEIT  \\\n",
      "0         NaN         NaN          NaN       NaN       NaN     NaN   \n",
      "1         2.0         1.0          1.0       5.0       4.0     3.0   \n",
      "2         1.0         0.0          1.0       4.0       4.0     3.0   \n",
      "\n",
      "   ORTSGR_KLS9  RELAT_AB  \n",
      "0          NaN       NaN  \n",
      "1          5.0       4.0  \n",
      "2          5.0       2.0  \n",
      "\n",
      "[3 rows x 85 columns]\n",
      "(891221, 85)\n",
      "              attribute information_level         type missing_or_unknown\n",
      "0              AGER_TYP            person  categorical             [-1,0]\n",
      "1  ALTERSKATEGORIE_GROB            person      ordinal           [-1,0,9]\n",
      "2             ANREDE_KZ            person  categorical             [-1,0]\n",
      "(85, 4)\n"
     ]
    }
   ],
   "source": [
    "# Check the structure of the data after it's loaded (e.g. print the number of\n",
    "# rows and columns, print the first few rows).\n",
    "print(azdias.head(3))\n",
    "print(azdias.shape)\n",
    "print(feat_info.head(3))\n",
    "print(feat_info.shape)"
   ]
  },
  {
   "cell_type": "markdown",
   "metadata": {},
   "source": [
    "> **Tip**: Add additional cells to keep everything in reasonably-sized chunks! Keyboard shortcut `esc --> a` (press escape to enter command mode, then press the 'A' key) adds a new cell before the active cell, and `esc --> b` adds a new cell after the active cell. If you need to convert an active cell to a markdown cell, use `esc --> m` and to convert to a code cell, use `esc --> y`. \n",
    "\n",
    "## Step 1: Preprocessing\n",
    "\n",
    "### Step 1.1: Assess Missing Data\n",
    "\n",
    "The feature summary file contains a summary of properties for each demographics data column. You will use this file to help you make cleaning decisions during this stage of the project. First of all, you should assess the demographics data in terms of missing data. Pay attention to the following points as you perform your analysis, and take notes on what you observe. Make sure that you fill in the **Discussion** cell with your findings and decisions at the end of each step that has one!\n",
    "\n",
    "#### Step 1.1.1: Convert Missing Value Codes to NaNs\n",
    "The fourth column of the feature attributes summary (loaded in above as `feat_info`) documents the codes from the data dictionary that indicate missing or unknown data. While the file encodes this as a list (e.g. `[-1,0]`), this will get read in as a string object. You'll need to do a little bit of parsing to make use of it to identify and clean the data. Convert data that matches a 'missing' or 'unknown' value code into a numpy NaN value. You might want to see how much data takes on a 'missing' or 'unknown' code, and how much data is naturally missing, as a point of interest.\n",
    "\n",
    "**As one more reminder, you are encouraged to add additional cells to break up your analysis into manageable chunks.**"
   ]
  },
  {
   "cell_type": "code",
   "execution_count": 4,
   "metadata": {},
   "outputs": [
    {
     "name": "stdout",
     "output_type": "stream",
     "text": [
      "4896838\n"
     ]
    }
   ],
   "source": [
    "# Count data naturally missing\n",
    "datnatmis = 0\n",
    "#for each column\n",
    "for i in range(85):\n",
    "    colnans = azdias.iloc[:,i].isna().sum()\n",
    "    datnatmis += colnans        \n",
    "        \n",
    "print(datnatmis)"
   ]
  },
  {
   "cell_type": "code",
   "execution_count": 5,
   "metadata": {},
   "outputs": [
    {
     "name": "stdout",
     "output_type": "stream",
     "text": [
      "-1\n"
     ]
    }
   ],
   "source": [
    "#Print a missing code value\n",
    "print(azdias['HEALTH_TYP'][0])"
   ]
  },
  {
   "cell_type": "code",
   "execution_count": 6,
   "metadata": {},
   "outputs": [],
   "source": [
    "#Convert Missing Value Codes to NaNs\n",
    "azdias_to_NaN = azdias.copy()\n",
    "for indx in range(len(feat_info)):\n",
    "    missing_or_unknown = feat_info.iloc[indx]['missing_or_unknown']\n",
    "    missing_or_unknown = missing_or_unknown.strip('[')\n",
    "    missing_or_unknown = missing_or_unknown.strip(']')\n",
    "    missing_or_unknown = missing_or_unknown.split(sep=',')\n",
    "    missing_or_unknown = [int(value) if (value!='X' and value!='XX' and value!='') else value for value in missing_or_unknown]\n",
    "    if missing_or_unknown != ['']:\n",
    "        azdias_to_NaN = azdias_to_NaN.replace({feat_info.iloc[indx]['attribute']: missing_or_unknown}, np.nan)"
   ]
  },
  {
   "cell_type": "code",
   "execution_count": 7,
   "metadata": {},
   "outputs": [
    {
     "name": "stdout",
     "output_type": "stream",
     "text": [
      "nan\n",
      "   AGER_TYP  ALTERSKATEGORIE_GROB  ANREDE_KZ  CJT_GESAMTTYP  \\\n",
      "0       NaN                   2.0          1            2.0   \n",
      "1       NaN                   1.0          2            5.0   \n",
      "2       NaN                   3.0          2            3.0   \n",
      "3       2.0                   4.0          2            2.0   \n",
      "4       NaN                   3.0          1            5.0   \n",
      "\n",
      "   FINANZ_MINIMALIST  FINANZ_SPARER  FINANZ_VORSORGER  FINANZ_ANLEGER  \\\n",
      "0                  3              4                 3               5   \n",
      "1                  1              5                 2               5   \n",
      "2                  1              4                 1               2   \n",
      "3                  4              2                 5               2   \n",
      "4                  4              3                 4               1   \n",
      "\n",
      "   FINANZ_UNAUFFAELLIGER  FINANZ_HAUSBAUER    ...     PLZ8_ANTG1  PLZ8_ANTG2  \\\n",
      "0                      5                 3    ...            NaN         NaN   \n",
      "1                      4                 5    ...            2.0         3.0   \n",
      "2                      3                 5    ...            3.0         3.0   \n",
      "3                      1                 2    ...            2.0         2.0   \n",
      "4                      3                 2    ...            2.0         4.0   \n",
      "\n",
      "   PLZ8_ANTG3  PLZ8_ANTG4  PLZ8_BAUMAX  PLZ8_HHZ  PLZ8_GBZ  ARBEIT  \\\n",
      "0         NaN         NaN          NaN       NaN       NaN     NaN   \n",
      "1         2.0         1.0          1.0       5.0       4.0     3.0   \n",
      "2         1.0         0.0          1.0       4.0       4.0     3.0   \n",
      "3         2.0         0.0          1.0       3.0       4.0     2.0   \n",
      "4         2.0         1.0          2.0       3.0       3.0     4.0   \n",
      "\n",
      "   ORTSGR_KLS9  RELAT_AB  \n",
      "0          NaN       NaN  \n",
      "1          5.0       4.0  \n",
      "2          5.0       2.0  \n",
      "3          3.0       3.0  \n",
      "4          6.0       5.0  \n",
      "\n",
      "[5 rows x 85 columns]\n"
     ]
    }
   ],
   "source": [
    "#Print the same missing code value and see it was transformed to nan \n",
    "print(azdias_to_NaN['HEALTH_TYP'][0])\n",
    "#and print the first few rows of the newly transformed data\n",
    "print(azdias_to_NaN.head())"
   ]
  },
  {
   "cell_type": "code",
   "execution_count": 8,
   "metadata": {},
   "outputs": [
    {
     "name": "stdout",
     "output_type": "stream",
     "text": [
      "8373929\n",
      "4896838\n"
     ]
    }
   ],
   "source": [
    "# Count nans after conversion and see it's greater than the previous count of data naturally missing\n",
    "nansafterconv = 0\n",
    "#for each column\n",
    "for i in range(85):\n",
    "    colnans = azdias_to_NaN.iloc[:,i].isna().sum()\n",
    "    nansafterconv += colnans        \n",
    "        \n",
    "print(nansafterconv)\n",
    "print(datnatmis)"
   ]
  },
  {
   "cell_type": "markdown",
   "metadata": {},
   "source": [
    "#### Step 1.1.2: Assess Missing Data in Each Column\n",
    "\n",
    "How much missing data is present in each column? There are a few columns that are outliers in terms of the proportion of values that are missing. You will want to use matplotlib's [`hist()`](https://matplotlib.org/api/_as_gen/matplotlib.pyplot.hist.html) function to visualize the distribution of missing value counts to find these columns. Identify and document these columns. While some of these columns might have justifications for keeping or re-encoding the data, for this project you should just remove them from the dataframe. (Feel free to make remarks about these outlier columns in the discussion, however!)\n",
    "\n",
    "For the remaining features, are there any patterns in which columns have, or share, missing data?"
   ]
  },
  {
   "cell_type": "code",
   "execution_count": 9,
   "metadata": {},
   "outputs": [],
   "source": [
    "# Perform an assessment of how much missing data there is in each column of the\n",
    "# dataset.\n",
    "nanspercol = []\n",
    "for col in range(85):\n",
    "    nanspercol.append(azdias_to_NaN.iloc[:,col].isna().sum())\n",
    "    "
   ]
  },
  {
   "cell_type": "code",
   "execution_count": 10,
   "metadata": {},
   "outputs": [
    {
     "data": {
      "image/png": "[encoded data removed]",
      "text/plain": [
       "<matplotlib.figure.Figure at 0x7fe8d0a3ba58>"
      ]
     },
     "metadata": {
      "needs_background": "light"
     },
     "output_type": "display_data"
    }
   ],
   "source": [
    "plt.hist(nanspercol, ec='black')\n",
    "plt.show()"
   ]
  },
  {
   "cell_type": "code",
   "execution_count": 11,
   "metadata": {},
   "outputs": [
    {
     "name": "stdout",
     "output_type": "stream",
     "text": [
      "Column 1 has 685843 nans which is 76.96 per cent\n",
      "Column 2 has 2881 nans which is 0.32 per cent\n",
      "Column 3 has 0 nans which is 0.00 per cent\n",
      "Column 4 has 4854 nans which is 0.54 per cent\n",
      "Column 5 has 0 nans which is 0.00 per cent\n",
      "Column 6 has 0 nans which is 0.00 per cent\n",
      "Column 7 has 0 nans which is 0.00 per cent\n",
      "Column 8 has 0 nans which is 0.00 per cent\n",
      "Column 9 has 0 nans which is 0.00 per cent\n",
      "Column 10 has 0 nans which is 0.00 per cent\n",
      "Column 11 has 0 nans which is 0.00 per cent\n",
      "Column 12 has 392318 nans which is 44.02 per cent\n",
      "Column 13 has 4854 nans which is 0.54 per cent\n",
      "Column 14 has 0 nans which is 0.00 per cent\n",
      "Column 15 has 111196 nans which is 12.48 per cent\n",
      "Column 16 has 97632 nans which is 10.95 per cent\n",
      "Column 17 has 94572 nans which is 10.61 per cent\n",
      "Column 18 has 77792 nans which is 8.73 per cent\n",
      "Column 19 has 77792 nans which is 8.73 per cent\n",
      "Column 20 has 4854 nans which is 0.54 per cent\n",
      "Column 21 has 4854 nans which is 0.54 per cent\n",
      "Column 22 has 108315 nans which is 12.15 per cent\n",
      "Column 23 has 108164 nans which is 12.14 per cent\n",
      "Column 24 has 4854 nans which is 0.54 per cent\n",
      "Column 25 has 0 nans which is 0.00 per cent\n",
      "Column 26 has 0 nans which is 0.00 per cent\n",
      "Column 27 has 0 nans which is 0.00 per cent\n",
      "Column 28 has 0 nans which is 0.00 per cent\n",
      "Column 29 has 0 nans which is 0.00 per cent\n",
      "Column 30 has 0 nans which is 0.00 per cent\n",
      "Column 31 has 0 nans which is 0.00 per cent\n",
      "Column 32 has 0 nans which is 0.00 per cent\n",
      "Column 33 has 0 nans which is 0.00 per cent\n",
      "Column 34 has 0 nans which is 0.00 per cent\n",
      "Column 35 has 0 nans which is 0.00 per cent\n",
      "Column 36 has 0 nans which is 0.00 per cent\n",
      "Column 37 has 0 nans which is 0.00 per cent\n",
      "Column 38 has 0 nans which is 0.00 per cent\n",
      "Column 39 has 111196 nans which is 12.48 per cent\n",
      "Column 40 has 73499 nans which is 8.25 per cent\n",
      "Column 41 has 889061 nans which is 99.76 per cent\n",
      "Column 42 has 111196 nans which is 12.48 per cent\n",
      "Column 43 has 0 nans which is 0.00 per cent\n",
      "Column 44 has 310267 nans which is 34.81 per cent\n",
      "Column 45 has 73499 nans which is 8.25 per cent\n",
      "Column 46 has 73499 nans which is 8.25 per cent\n",
      "Column 47 has 18348 nans which is 2.06 per cent\n",
      "Column 48 has 584612 nans which is 65.60 per cent\n",
      "Column 49 has 147988 nans which is 16.61 per cent\n",
      "Column 50 has 73499 nans which is 8.25 per cent\n",
      "Column 51 has 99611 nans which is 11.18 per cent\n",
      "Column 52 has 97008 nans which is 10.88 per cent\n",
      "Column 53 has 93148 nans which is 10.45 per cent\n",
      "Column 54 has 73969 nans which is 8.30 per cent\n",
      "Column 55 has 93148 nans which is 10.45 per cent\n",
      "Column 56 has 93148 nans which is 10.45 per cent\n",
      "Column 57 has 93148 nans which is 10.45 per cent\n",
      "Column 58 has 99352 nans which is 11.15 per cent\n",
      "Column 59 has 99352 nans which is 11.15 per cent\n",
      "Column 60 has 99352 nans which is 11.15 per cent\n",
      "Column 61 has 133324 nans which is 14.96 per cent\n",
      "Column 62 has 133324 nans which is 14.96 per cent\n",
      "Column 63 has 133324 nans which is 14.96 per cent\n",
      "Column 64 has 133324 nans which is 14.96 per cent\n",
      "Column 65 has 476524 nans which is 53.47 per cent\n",
      "Column 66 has 133324 nans which is 14.96 per cent\n",
      "Column 67 has 93740 nans which is 10.52 per cent\n",
      "Column 68 has 93740 nans which is 10.52 per cent\n",
      "Column 69 has 93740 nans which is 10.52 per cent\n",
      "Column 70 has 93155 nans which is 10.45 per cent\n",
      "Column 71 has 158064 nans which is 17.74 per cent\n",
      "Column 72 has 133324 nans which is 14.96 per cent\n",
      "Column 73 has 4854 nans which is 0.54 per cent\n",
      "Column 74 has 158064 nans which is 17.74 per cent\n",
      "Column 75 has 105800 nans which is 11.87 per cent\n",
      "Column 76 has 116515 nans which is 13.07 per cent\n",
      "Column 77 has 116515 nans which is 13.07 per cent\n",
      "Column 78 has 116515 nans which is 13.07 per cent\n",
      "Column 79 has 116515 nans which is 13.07 per cent\n",
      "Column 80 has 116515 nans which is 13.07 per cent\n",
      "Column 81 has 116515 nans which is 13.07 per cent\n",
      "Column 82 has 116515 nans which is 13.07 per cent\n",
      "Column 83 has 97375 nans which is 10.93 per cent\n",
      "Column 84 has 97274 nans which is 10.91 per cent\n",
      "Column 85 has 97375 nans which is 10.93 per cent\n"
     ]
    }
   ],
   "source": [
    "# Investigate patterns in the amount of missing data in each column.\n",
    "\n",
    "#See the proportion of nans for each column\n",
    "for col in range(85):\n",
    "    print('Column ' + str(col+1) + ' has {} nans which is {:.2f} per cent'.format(nanspercol[col], nanspercol[col]*100/891221))\n",
    "\n"
   ]
  },
  {
   "cell_type": "code",
   "execution_count": 12,
   "metadata": {},
   "outputs": [],
   "source": [
    "counter=collections.Counter(nanspercol)"
   ]
  },
  {
   "cell_type": "code",
   "execution_count": 13,
   "metadata": {},
   "outputs": [
    {
     "name": "stdout",
     "output_type": "stream",
     "text": [
      "Counter({0: 24, 116515: 7, 4854: 6, 133324: 6, 73499: 4, 93148: 4, 111196: 3, 99352: 3, 93740: 3, 77792: 2, 158064: 2, 97375: 2, 685843: 1, 2881: 1, 392318: 1, 97632: 1, 94572: 1, 108315: 1, 108164: 1, 889061: 1, 310267: 1, 18348: 1, 584612: 1, 147988: 1, 99611: 1, 97008: 1, 73969: 1, 476524: 1, 93155: 1, 105800: 1, 97274: 1})\n"
     ]
    }
   ],
   "source": [
    "print(counter)"
   ]
  },
  {
   "cell_type": "code",
   "execution_count": 14,
   "metadata": {},
   "outputs": [
    {
     "name": "stdout",
     "output_type": "stream",
     "text": [
      "[0, 11, 40, 43, 47, 64]\n",
      "6\n"
     ]
    }
   ],
   "source": [
    "# Let's gather the column indexes of those that have a considerable proportion of nans\n",
    "outlicols=[]\n",
    "\n",
    "for col in range(85):\n",
    "    colnans = azdias_to_NaN.iloc[:,col].isna().sum()\n",
    "    if colnans>200000:\n",
    "        outlicols.append(col)\n",
    "\n",
    "print(outlicols)\n",
    "print(len(outlicols))"
   ]
  },
  {
   "cell_type": "code",
   "execution_count": 15,
   "metadata": {},
   "outputs": [],
   "source": [
    "# Remove the outlier columns from the dataset. (You'll perform other data\n",
    "# engineering tasks such as re-encoding and imputation later.)\n",
    "\n",
    "azdias_coldrop = azdias_to_NaN.copy()\n",
    "\n",
    "azdias_coldrop.drop(azdias_coldrop.columns[outlicols],axis=1,inplace=True)\n",
    "\n"
   ]
  },
  {
   "cell_type": "code",
   "execution_count": 16,
   "metadata": {},
   "outputs": [
    {
     "name": "stdout",
     "output_type": "stream",
     "text": [
      "(891221, 79)\n"
     ]
    }
   ],
   "source": [
    "print(azdias_coldrop.shape)"
   ]
  },
  {
   "cell_type": "markdown",
   "metadata": {},
   "source": [
    "#### Discussion 1.1.2: Assess Missing Data in Each Column\n",
    "\n"
   ]
  },
  {
   "cell_type": "markdown",
   "metadata": {},
   "source": [
    "#### Step 1.1.3: Assess Missing Data in Each Row\n",
    "\n",
    "Now, you'll perform a similar assessment for the rows of the dataset. How much data is missing in each row? As with the columns, you should see some groups of points that have a very different numbers of missing values. Divide the data into two subsets: one for data points that are above some threshold for missing values, and a second subset for points below that threshold.\n",
    "\n",
    "In order to know what to do with the outlier rows, we should see if the distribution of data values on columns that are not missing data (or are missing very little data) are similar or different between the two groups. Select at least five of these columns and compare the distribution of values.\n",
    "- You can use seaborn's [`countplot()`](https://seaborn.pydata.org/generated/seaborn.countplot.html) function to create a bar chart of code frequencies and matplotlib's [`subplot()`](https://matplotlib.org/api/_as_gen/matplotlib.pyplot.subplot.html) function to put bar charts for the two subplots side by side.\n",
    "- To reduce repeated code, you might want to write a function that can perform this comparison, taking as one of its arguments a column to be compared.\n",
    "\n",
    "Depending on what you observe in your comparison, this will have implications on how you approach your conclusions later in the analysis. If the distributions of non-missing features look similar between the data with many missing values and the data with few or no missing values, then we could argue that simply dropping those points from the analysis won't present a major issue. On the other hand, if the data with many missing values looks very different from the data with few or no missing values, then we should make a note on those data as special. We'll revisit these data later on. **Either way, you should continue your analysis for now using just the subset of the data with few or no missing values.**"
   ]
  },
  {
   "cell_type": "code",
   "execution_count": 17,
   "metadata": {},
   "outputs": [],
   "source": [
    "# How much data is missing in each row of the dataset?\n",
    "#nansperrow = [ azdias_coldrop.iloc[i,:].isna().sum() for i in range(891221) ]"
   ]
  },
  {
   "cell_type": "code",
   "execution_count": 18,
   "metadata": {},
   "outputs": [],
   "source": [
    "#with open(\"nansperrow.txt\", \"wb\") as fp:\n",
    "#    pickle.dump(nansperrow, fp)"
   ]
  },
  {
   "cell_type": "code",
   "execution_count": 19,
   "metadata": {},
   "outputs": [],
   "source": [
    "with open(\"nansperrow.txt\", \"rb\") as fp:\n",
    "    nansperrow = pickle.load(fp)"
   ]
  },
  {
   "cell_type": "code",
   "execution_count": 20,
   "metadata": {},
   "outputs": [
    {
     "data": {
      "image/png": "[encoded data removed]",
      "text/plain": [
       "<matplotlib.figure.Figure at 0x7fe8d09da5f8>"
      ]
     },
     "metadata": {
      "needs_background": "light"
     },
     "output_type": "display_data"
    }
   ],
   "source": [
    "plt.hist(nansperrow, ec='black')\n",
    "plt.show()"
   ]
  },
  {
   "cell_type": "code",
   "execution_count": 21,
   "metadata": {},
   "outputs": [],
   "source": [
    "# Write code to divide the data into two subsets based on the number of missing\n",
    "# values in each row.\n",
    "#print(len(nansperrow))\n",
    "#print(len(index))\n",
    "\n",
    "fewnans = []\n",
    "manynans = []\n",
    "\n",
    "for i in range(891221):\n",
    "    if nansperrow[i]>5:\n",
    "        manynans.append(i)\n",
    "    else:\n",
    "        fewnans.append(i)"
   ]
  },
  {
   "cell_type": "code",
   "execution_count": 22,
   "metadata": {},
   "outputs": [
    {
     "name": "stdout",
     "output_type": "stream",
     "text": [
      "171597\n",
      "719624\n"
     ]
    }
   ],
   "source": [
    "print(len(manynans))\n",
    "print(len(fewnans))"
   ]
  },
  {
   "cell_type": "code",
   "execution_count": 23,
   "metadata": {},
   "outputs": [
    {
     "name": "stdout",
     "output_type": "stream",
     "text": [
      "0\n",
      "0\n",
      "0\n",
      "0\n",
      "0\n"
     ]
    }
   ],
   "source": [
    "# Compare the distribution of values for at least five columns where there are\n",
    "# no or few missing values, between the two subsets.\n",
    "\n",
    "#We saw that columns 5 to 9 have 0 nans. Let's use these. But because column 1 was dropped now these are columns 4 to 8\n",
    "for col in range(3,8):\n",
    "    print(azdias_coldrop.iloc[:,col].isna().sum())"
   ]
  },
  {
   "cell_type": "code",
   "execution_count": 24,
   "metadata": {},
   "outputs": [],
   "source": [
    "def comparesets(col):\n",
    "    fig, (ax1, ax2) = plt.subplots(1, 2)\n",
    "    sns.countplot(data=azdias_coldrop.iloc[manynans], x = col, ax=ax1)\n",
    "    sns.countplot(data=azdias_coldrop.iloc[fewnans], x = col, ax=ax2)\n",
    "    plt.tight_layout()\n",
    "    plt.show()"
   ]
  },
  {
   "cell_type": "code",
   "execution_count": 25,
   "metadata": {},
   "outputs": [
    {
     "data": {
      "image/png": "[encoded data removed]",
      "text/plain": [
       "<matplotlib.figure.Figure at 0x7fe8c733d550>"
      ]
     },
     "metadata": {
      "needs_background": "light"
     },
     "output_type": "display_data"
    },
    {
     "data": {
      "image/png": "[encoded data removed]",
      "text/plain": [
       "<matplotlib.figure.Figure at 0x7fe8ce87bdd8>"
      ]
     },
     "metadata": {
      "needs_background": "light"
     },
     "output_type": "display_data"
    },
    {
     "data": {
      "image/png": "[encoded data removed]",
      "text/plain": [
       "<matplotlib.figure.Figure at 0x7fe8ce87b6a0>"
      ]
     },
     "metadata": {
      "needs_background": "light"
     },
     "output_type": "display_data"
    },
    {
     "data": {
      "image/png": "[encoded data removed]",
      "text/plain": [
       "<matplotlib.figure.Figure at 0x7fe8ce6ac908>"
      ]
     },
     "metadata": {
      "needs_background": "light"
     },
     "output_type": "display_data"
    },
    {
     "data": {
      "image/png": "[encoded data removed]",
      "text/plain": [
       "<matplotlib.figure.Figure at 0x7fe8ce4a70f0>"
      ]
     },
     "metadata": {
      "needs_background": "light"
     },
     "output_type": "display_data"
    }
   ],
   "source": [
    "for col in range(3,8):\n",
    "    comparesets(azdias_coldrop.columns[col])"
   ]
  },
  {
   "cell_type": "code",
   "execution_count": 26,
   "metadata": {},
   "outputs": [],
   "source": [
    "azdias_with_rows_dropped = azdias_coldrop.copy()"
   ]
  },
  {
   "cell_type": "code",
   "execution_count": 27,
   "metadata": {},
   "outputs": [],
   "source": [
    "azdias_with_rows_dropped.drop(manynans, inplace=True)"
   ]
  },
  {
   "cell_type": "code",
   "execution_count": 28,
   "metadata": {},
   "outputs": [
    {
     "name": "stdout",
     "output_type": "stream",
     "text": [
      "719624\n",
      "891221\n"
     ]
    }
   ],
   "source": [
    "print(len(azdias_with_rows_dropped))\n",
    "print(len(azdias_coldrop))"
   ]
  },
  {
   "cell_type": "markdown",
   "metadata": {},
   "source": [
    "#### Discussion 1.1.3: Assess Missing Data in Each Row\n",
    "\n"
   ]
  },
  {
   "cell_type": "markdown",
   "metadata": {},
   "source": [
    "### Step 1.2: Select and Re-Encode Features\n",
    "\n",
    "Checking for missing data isn't the only way in which you can prepare a dataset for analysis. Since the unsupervised learning techniques to be used will only work on data that is encoded numerically, you need to make a few encoding changes or additional assumptions to be able to make progress. In addition, while almost all of the values in the dataset are encoded using numbers, not all of them represent numeric values. Check the third column of the feature summary (`feat_info`) for a summary of types of measurement.\n",
    "- For numeric and interval data, these features can be kept without changes.\n",
    "- Most of the variables in the dataset are ordinal in nature. While ordinal values may technically be non-linear in spacing, make the simplifying assumption that the ordinal variables can be treated as being interval in nature (that is, kept without any changes).\n",
    "- Special handling may be necessary for the remaining two variable types: categorical, and 'mixed'.\n",
    "\n",
    "In the first two parts of this sub-step, you will perform an investigation of the categorical and mixed-type features and make a decision on each of them, whether you will keep, drop, or re-encode each. Then, in the last part, you will create a new data frame with only the selected and engineered columns.\n",
    "\n",
    "Data wrangling is often the trickiest part of the data analysis process, and there's a lot of it to be done here. But stick with it: once you're done with this step, you'll be ready to get to the machine learning parts of the project!"
   ]
  },
  {
   "cell_type": "code",
   "execution_count": 29,
   "metadata": {},
   "outputs": [
    {
     "name": "stdout",
     "output_type": "stream",
     "text": [
      "ordinal        49\n",
      "categorical    18\n",
      "numeric         6\n",
      "mixed           6\n",
      "Name: type, dtype: int64\n"
     ]
    }
   ],
   "source": [
    "# How many features are there of each data type?\n",
    "\n",
    "# Let's consider only the features which we haven't dropped\n",
    "feat_info_red = feat_info.copy()\n",
    "feat_info_red.drop(outlicols, inplace=True)\n",
    "\n",
    "print(feat_info_red['type'].value_counts())\n",
    "\n"
   ]
  },
  {
   "cell_type": "markdown",
   "metadata": {},
   "source": [
    "#### Step 1.2.1: Re-Encode Categorical Features\n",
    "\n",
    "For categorical data, you would ordinarily need to encode the levels as dummy variables. Depending on the number of categories, perform one of the following:\n",
    "- For binary (two-level) categoricals that take numeric values, you can keep them without needing to do anything.\n",
    "- There is one binary variable that takes on non-numeric values. For this one, you need to re-encode the values as numbers or create a dummy variable.\n",
    "- For multi-level categoricals (three or more values), you can choose to encode the values using multiple dummy variables (e.g. via [OneHotEncoder](http://scikit-learn.org/stable/modules/generated/sklearn.preprocessing.OneHotEncoder.html)), or (to keep things straightforward) just drop them from the analysis. As always, document your choices in the Discussion section."
   ]
  },
  {
   "cell_type": "code",
   "execution_count": 30,
   "metadata": {},
   "outputs": [
    {
     "name": "stdout",
     "output_type": "stream",
     "text": [
      "ANREDE_KZ : [2 1]\n",
      "CJT_GESAMTTYP : [ 5.  3.  2.  4.  1.  6.]\n",
      "FINANZTYP : [1 5 2 4 6 3]\n",
      "GFK_URLAUBERTYP : [ 10.   5.   1.  12.   9.   3.   8.  11.   4.   7.   2.   6.]\n",
      "GREEN_AVANTGARDE : [0 1]\n",
      "LP_FAMILIE_FEIN : [  5.   1.  10.   2.  nan   7.  11.   8.   4.   6.   9.   3.]\n",
      "LP_FAMILIE_GROB : [  3.   1.   5.   2.  nan   4.]\n",
      "LP_STATUS_FEIN : [  2.   3.   4.   1.  10.   8.   9.   5.   6.   7.]\n",
      "LP_STATUS_GROB : [ 1.  2.  5.  4.  3.]\n",
      "NATIONALITAET_KZ : [  1.   2.  nan   3.]\n",
      "SHOPPER_TYP : [  3.   2.   0.   1.  nan]\n",
      "SOHO_KZ : [ 1.  0.]\n",
      "VERS_TYP : [  2.   1.  nan]\n",
      "ZABEOTYP : [5 4 1 6 3 2]\n",
      "GEBAEUDETYP : [ 8.  1.  3.  6.  2.  4.  5.]\n",
      "OST_WEST_KZ : ['W' 'O']\n",
      "CAMEO_DEUG_2015 : ['8' '4' '6' '2' '1' '9' '5' '3' '7' nan]\n",
      "CAMEO_DEU_2015 : ['8A' '4C' '6B' '8C' '4A' '2D' '1A' '1E' '9D' '5D' '9E' '5C' '9B' '2A' '1B'\n",
      " '8B' '3D' '7A' nan '4E' '4B' '3C' '5A' '7B' '9A' '6D' '6E' '2C' '7C' '9C'\n",
      " '7D' '5E' '1D' '8D' '6C' '6A' '5B' '4D' '3A' '2B' '7E' '3B' '6F' '5F' '1C']\n"
     ]
    }
   ],
   "source": [
    "# Assess categorical variables: which are binary, which are multi-level, and\n",
    "# which one needs to be re-encoded?\n",
    "\n",
    "categori=feat_info_red.loc[feat_info_red['type'] == 'categorical']['attribute'].tolist()\n",
    "\n",
    "for col in categori:\n",
    "    print(col,':',azdias_with_rows_dropped[col].unique())\n",
    "\n"
   ]
  },
  {
   "cell_type": "code",
   "execution_count": 31,
   "metadata": {},
   "outputs": [],
   "source": [
    "categori.remove('ANREDE_KZ')\n",
    "categori.remove('GREEN_AVANTGARDE')\n",
    "categori.remove('SOHO_KZ')\n",
    "categori.remove('OST_WEST_KZ')"
   ]
  },
  {
   "cell_type": "code",
   "execution_count": 32,
   "metadata": {},
   "outputs": [
    {
     "name": "stdout",
     "output_type": "stream",
     "text": [
      "['CJT_GESAMTTYP', 'FINANZTYP', 'GFK_URLAUBERTYP', 'LP_FAMILIE_FEIN', 'LP_FAMILIE_GROB', 'LP_STATUS_FEIN', 'LP_STATUS_GROB', 'NATIONALITAET_KZ', 'SHOPPER_TYP', 'VERS_TYP', 'ZABEOTYP', 'GEBAEUDETYP', 'CAMEO_DEUG_2015', 'CAMEO_DEU_2015']\n"
     ]
    }
   ],
   "source": [
    "print(categori)"
   ]
  },
  {
   "cell_type": "code",
   "execution_count": 33,
   "metadata": {},
   "outputs": [],
   "source": [
    "azdias_catdrop = azdias_with_rows_dropped.copy()\n",
    "azdias_catdrop.drop(categori,axis=1,inplace=True)"
   ]
  },
  {
   "cell_type": "code",
   "execution_count": 34,
   "metadata": {},
   "outputs": [],
   "source": [
    "# Re-encode categorical variable(s) to be kept in the analysis.\n",
    "azdias_catdrop.loc[azdias_catdrop['OST_WEST_KZ'] == 'W', 'OST_WEST_KZ'] = 0\n",
    "azdias_catdrop.loc[azdias_catdrop['OST_WEST_KZ'] == 'O', 'OST_WEST_KZ'] = 1"
   ]
  },
  {
   "cell_type": "markdown",
   "metadata": {},
   "source": [
    "#### Discussion 1.2.1: Re-Encode Categorical Features\n"
   ]
  },
  {
   "cell_type": "markdown",
   "metadata": {},
   "source": [
    "#### Step 1.2.2: Engineer Mixed-Type Features\n",
    "\n",
    "There are a handful of features that are marked as \"mixed\" in the feature summary that require special treatment in order to be included in the analysis. There are two in particular that deserve attention; the handling of the rest are up to your own choices:\n",
    "- \"PRAEGENDE_JUGENDJAHRE\" combines information on three dimensions: generation by decade, movement (mainstream vs. avantgarde), and nation (east vs. west). While there aren't enough levels to disentangle east from west, you should create two new variables to capture the other two dimensions: an interval-type variable for decade, and a binary variable for movement.\n",
    "- \"CAMEO_INTL_2015\" combines information on two axes: wealth and life stage. Break up the two-digit codes by their 'tens'-place and 'ones'-place digits into two new ordinal variables (which, for the purposes of this project, is equivalent to just treating them as their raw numeric values).\n",
    "- If you decide to keep or engineer new features around the other mixed-type features, make sure you note your steps in the Discussion section.\n",
    "\n",
    "Be sure to check `Data_Dictionary.md` for the details needed to finish these tasks."
   ]
  },
  {
   "cell_type": "code",
   "execution_count": 35,
   "metadata": {},
   "outputs": [
    {
     "name": "stdout",
     "output_type": "stream",
     "text": [
      "[ 14.  15.   8.   3.  10.  11.   9.   6.   4.  nan   5.   2.   1.  12.  13.\n",
      "   7.]\n"
     ]
    }
   ],
   "source": [
    "# Investigate \"PRAEGENDE_JUGENDJAHRE\" and engineer two new variables.\n",
    "print(azdias_catdrop['PRAEGENDE_JUGENDJAHRE'].unique())\n"
   ]
  },
  {
   "cell_type": "code",
   "execution_count": 36,
   "metadata": {},
   "outputs": [],
   "source": [
    "azdias_PrJu=azdias_catdrop.copy()\n",
    "azdias_PrJu['decade']=azdias_PrJu['PRAEGENDE_JUGENDJAHRE']\n",
    "azdias_PrJu['movement']=azdias_PrJu['PRAEGENDE_JUGENDJAHRE']"
   ]
  },
  {
   "cell_type": "code",
   "execution_count": 37,
   "metadata": {},
   "outputs": [
    {
     "name": "stdout",
     "output_type": "stream",
     "text": [
      "[ 14.  15.   8.   3.  10.  11.   9.   6.   4.  nan   5.   2.   1.  12.  13.\n",
      "   7.]\n"
     ]
    }
   ],
   "source": [
    "print(azdias_PrJu['movement'].unique())"
   ]
  },
  {
   "cell_type": "code",
   "execution_count": 38,
   "metadata": {},
   "outputs": [],
   "source": [
    "# Encode Mainstream\n",
    "azdias_PrJu.loc[azdias_PrJu['movement'] == 1, 'movement'] = 0\n",
    "azdias_PrJu.loc[azdias_PrJu['movement'] == 3, 'movement'] = 0\n",
    "azdias_PrJu.loc[azdias_PrJu['movement'] == 5, 'movement'] = 0\n",
    "azdias_PrJu.loc[azdias_PrJu['movement'] == 8, 'movement'] = 0\n",
    "azdias_PrJu.loc[azdias_PrJu['movement'] == 10, 'movement'] = 0\n",
    "azdias_PrJu.loc[azdias_PrJu['movement'] == 12, 'movement'] = 0\n",
    "azdias_PrJu.loc[azdias_PrJu['movement'] == 14, 'movement'] = 0"
   ]
  },
  {
   "cell_type": "code",
   "execution_count": 39,
   "metadata": {},
   "outputs": [
    {
     "name": "stdout",
     "output_type": "stream",
     "text": [
      "[  0.  15.  11.   9.   6.   4.  nan   2.  13.   7.]\n"
     ]
    }
   ],
   "source": [
    "print(azdias_PrJu['movement'].unique())"
   ]
  },
  {
   "cell_type": "code",
   "execution_count": 40,
   "metadata": {},
   "outputs": [],
   "source": [
    "# Encode Avantgarde\n",
    "azdias_PrJu['movement']=azdias_PrJu['movement'].apply(lambda x: 1 if not x==0 and not np.isnan(x) else x)"
   ]
  },
  {
   "cell_type": "code",
   "execution_count": 41,
   "metadata": {},
   "outputs": [
    {
     "name": "stdout",
     "output_type": "stream",
     "text": [
      "[  0.   1.  nan]\n"
     ]
    }
   ],
   "source": [
    "print(azdias_PrJu['movement'].unique())"
   ]
  },
  {
   "cell_type": "code",
   "execution_count": 42,
   "metadata": {},
   "outputs": [
    {
     "name": "stdout",
     "output_type": "stream",
     "text": [
      "[ 14.  15.   8.   3.  10.  11.   9.   6.   4.  nan   5.   2.   1.  12.  13.\n",
      "   7.]\n"
     ]
    }
   ],
   "source": [
    "print(azdias_PrJu['decade'].unique())"
   ]
  },
  {
   "cell_type": "code",
   "execution_count": 43,
   "metadata": {},
   "outputs": [],
   "source": [
    "# Encode decades\n",
    "azdias_PrJu.loc[azdias_PrJu['decade'] == 1, 'decade'] = 40\n",
    "azdias_PrJu.loc[azdias_PrJu['decade'] == 2, 'decade'] = 40\n",
    "azdias_PrJu.loc[azdias_PrJu['decade'] == 3, 'decade'] = 50\n",
    "azdias_PrJu.loc[azdias_PrJu['decade'] == 4, 'decade'] = 50\n",
    "azdias_PrJu.loc[azdias_PrJu['decade'] == 5, 'decade'] = 60\n",
    "azdias_PrJu.loc[azdias_PrJu['decade'] == 6, 'decade'] = 60\n",
    "azdias_PrJu.loc[azdias_PrJu['decade'] == 7, 'decade'] = 60\n",
    "azdias_PrJu.loc[azdias_PrJu['decade'] == 8, 'decade'] = 70\n",
    "azdias_PrJu.loc[azdias_PrJu['decade'] == 9, 'decade'] = 70\n",
    "azdias_PrJu.loc[azdias_PrJu['decade'] == 10, 'decade'] = 80\n",
    "azdias_PrJu.loc[azdias_PrJu['decade'] == 11, 'decade'] = 80\n",
    "azdias_PrJu.loc[azdias_PrJu['decade'] == 12, 'decade'] = 80\n",
    "azdias_PrJu.loc[azdias_PrJu['decade'] == 13, 'decade'] = 80\n",
    "azdias_PrJu.loc[azdias_PrJu['decade'] == 14, 'decade'] = 90\n",
    "azdias_PrJu.loc[azdias_PrJu['decade'] == 15, 'decade'] = 90\n"
   ]
  },
  {
   "cell_type": "code",
   "execution_count": 44,
   "metadata": {},
   "outputs": [
    {
     "name": "stdout",
     "output_type": "stream",
     "text": [
      "[ 90.  70.  50.  80.  60.  nan  40.]\n"
     ]
    }
   ],
   "source": [
    "print(azdias_PrJu['decade'].unique())"
   ]
  },
  {
   "cell_type": "code",
   "execution_count": 45,
   "metadata": {},
   "outputs": [
    {
     "name": "stdout",
     "output_type": "stream",
     "text": [
      "['51' '24' '43' '54' '22' '14' '13' '15' '34' '55' '33' '12' '41' '25' nan\n",
      " '23' '31' '52' '35' '45' '44' '32']\n"
     ]
    }
   ],
   "source": [
    "# Investigate \"CAMEO_INTL_2015\" and engineer two new variables.\n",
    "print(azdias_PrJu['CAMEO_INTL_2015'].unique())\n",
    "\n",
    "azdias_Cam=azdias_PrJu.copy()\n",
    "azdias_Cam['wealth']=azdias_Cam['CAMEO_INTL_2015']\n",
    "azdias_Cam['lifestage']=azdias_Cam['CAMEO_INTL_2015']\n",
    "\n",
    "\n",
    "\n"
   ]
  },
  {
   "cell_type": "code",
   "execution_count": 46,
   "metadata": {},
   "outputs": [],
   "source": [
    "azdias_Cam['wealth']=azdias_Cam['wealth'].apply(lambda x: x[0] if isinstance(x, str) else x)"
   ]
  },
  {
   "cell_type": "code",
   "execution_count": 47,
   "metadata": {},
   "outputs": [],
   "source": [
    "azdias_Cam['wealth']=azdias_Cam['wealth'].apply(lambda x: int(x) if isinstance(x, str) else x)"
   ]
  },
  {
   "cell_type": "code",
   "execution_count": 48,
   "metadata": {},
   "outputs": [],
   "source": [
    "azdias_Cam['lifestage']=azdias_Cam['lifestage'].apply(lambda x: x[1] if isinstance(x, str) else x)"
   ]
  },
  {
   "cell_type": "code",
   "execution_count": 49,
   "metadata": {},
   "outputs": [],
   "source": [
    "azdias_Cam['lifestage']=azdias_Cam['lifestage'].apply(lambda x: int(x) if isinstance(x, str) else x)"
   ]
  },
  {
   "cell_type": "code",
   "execution_count": 50,
   "metadata": {},
   "outputs": [
    {
     "name": "stdout",
     "output_type": "stream",
     "text": [
      "[  1.   4.   3.   2.   5.  nan]\n",
      "[  5.   2.   4.   1.   3.  nan]\n"
     ]
    }
   ],
   "source": [
    "print(azdias_Cam['lifestage'].unique())\n",
    "print(azdias_Cam['wealth'].unique())"
   ]
  },
  {
   "cell_type": "code",
   "execution_count": 51,
   "metadata": {},
   "outputs": [],
   "source": [
    "azdias_dropmixed=azdias_Cam.copy()"
   ]
  },
  {
   "cell_type": "code",
   "execution_count": 52,
   "metadata": {},
   "outputs": [],
   "source": [
    "mixed=feat_info_red.loc[feat_info_red['type'] == 'mixed']['attribute'].tolist()"
   ]
  },
  {
   "cell_type": "code",
   "execution_count": 53,
   "metadata": {},
   "outputs": [],
   "source": [
    "azdias_dropmixed.drop(mixed,axis=1,inplace=True)"
   ]
  },
  {
   "cell_type": "code",
   "execution_count": 54,
   "metadata": {},
   "outputs": [
    {
     "data": {
      "text/plain": [
       "Index(['ALTERSKATEGORIE_GROB', 'ANREDE_KZ', 'FINANZ_MINIMALIST',\n",
       "       'FINANZ_SPARER', 'FINANZ_VORSORGER', 'FINANZ_ANLEGER',\n",
       "       'FINANZ_UNAUFFAELLIGER', 'FINANZ_HAUSBAUER', 'GREEN_AVANTGARDE',\n",
       "       'HEALTH_TYP', 'RETOURTYP_BK_S', 'SEMIO_SOZ', 'SEMIO_FAM', 'SEMIO_REL',\n",
       "       'SEMIO_MAT', 'SEMIO_VERT', 'SEMIO_LUST', 'SEMIO_ERL', 'SEMIO_KULT',\n",
       "       'SEMIO_RAT', 'SEMIO_KRIT', 'SEMIO_DOM', 'SEMIO_KAEM', 'SEMIO_PFLICHT',\n",
       "       'SEMIO_TRADV', 'SOHO_KZ', 'ANZ_PERSONEN', 'ANZ_TITEL',\n",
       "       'HH_EINKOMMEN_SCORE', 'W_KEIT_KIND_HH', 'WOHNDAUER_2008',\n",
       "       'ANZ_HAUSHALTE_AKTIV', 'ANZ_HH_TITEL', 'KONSUMNAEHE',\n",
       "       'MIN_GEBAEUDEJAHR', 'OST_WEST_KZ', 'KBA05_ANTG1', 'KBA05_ANTG2',\n",
       "       'KBA05_ANTG3', 'KBA05_ANTG4', 'KBA05_GBZ', 'BALLRAUM', 'EWDICHTE',\n",
       "       'INNENSTADT', 'GEBAEUDETYP_RASTER', 'KKK', 'MOBI_REGIO',\n",
       "       'ONLINE_AFFINITAET', 'REGIOTYP', 'KBA13_ANZAHL_PKW', 'PLZ8_ANTG1',\n",
       "       'PLZ8_ANTG2', 'PLZ8_ANTG3', 'PLZ8_ANTG4', 'PLZ8_HHZ', 'PLZ8_GBZ',\n",
       "       'ARBEIT', 'ORTSGR_KLS9', 'RELAT_AB', 'decade', 'movement', 'wealth',\n",
       "       'lifestage'],\n",
       "      dtype='object')"
      ]
     },
     "execution_count": 54,
     "metadata": {},
     "output_type": "execute_result"
    }
   ],
   "source": [
    "azdias_dropmixed.columns"
   ]
  },
  {
   "cell_type": "markdown",
   "metadata": {},
   "source": [
    "#### Discussion 1.2.2: Engineer Mixed-Type Features\n",
    "\n",
    "(Double-click this cell and replace this text with your own text, reporting your findings and decisions regarding mixed-value features. Which ones did you keep, which did you drop, and what engineering steps did you perform?)"
   ]
  },
  {
   "cell_type": "markdown",
   "metadata": {},
   "source": [
    "#### Step 1.2.3: Complete Feature Selection\n",
    "\n",
    "In order to finish this step up, you need to make sure that your data frame now only has the columns that you want to keep. To summarize, the dataframe should consist of the following:\n",
    "- All numeric, interval, and ordinal type columns from the original dataset.\n",
    "- Binary categorical features (all numerically-encoded).\n",
    "- Engineered features from other multi-level categorical features and mixed features.\n",
    "\n",
    "Make sure that for any new columns that you have engineered, that you've excluded the original columns from the final dataset. Otherwise, their values will interfere with the analysis later on the project. For example, you should not keep \"PRAEGENDE_JUGENDJAHRE\", since its values won't be useful for the algorithm: only the values derived from it in the engineered features you created should be retained. As a reminder, your data should only be from **the subset with few or no missing values**."
   ]
  },
  {
   "cell_type": "code",
   "execution_count": 55,
   "metadata": {},
   "outputs": [],
   "source": [
    "# If there are other re-engineering tasks you need to perform, make sure you\n",
    "# take care of them here. (Dealing with missing data will come in step 2.1.)\n",
    "\n"
   ]
  },
  {
   "cell_type": "code",
   "execution_count": 56,
   "metadata": {},
   "outputs": [
    {
     "name": "stdout",
     "output_type": "stream",
     "text": [
      "<class 'pandas.core.frame.DataFrame'>\n",
      "Int64Index: 719624 entries, 1 to 891220\n",
      "Data columns (total 63 columns):\n",
      "ALTERSKATEGORIE_GROB     718093 non-null float64\n",
      "ANREDE_KZ                719624 non-null int64\n",
      "FINANZ_MINIMALIST        719624 non-null int64\n",
      "FINANZ_SPARER            719624 non-null int64\n",
      "FINANZ_VORSORGER         719624 non-null int64\n",
      "FINANZ_ANLEGER           719624 non-null int64\n",
      "FINANZ_UNAUFFAELLIGER    719624 non-null int64\n",
      "FINANZ_HAUSBAUER         719624 non-null int64\n",
      "GREEN_AVANTGARDE         719624 non-null int64\n",
      "HEALTH_TYP               704814 non-null float64\n",
      "RETOURTYP_BK_S           719624 non-null float64\n",
      "SEMIO_SOZ                719624 non-null int64\n",
      "SEMIO_FAM                719624 non-null int64\n",
      "SEMIO_REL                719624 non-null int64\n",
      "SEMIO_MAT                719624 non-null int64\n",
      "SEMIO_VERT               719624 non-null int64\n",
      "SEMIO_LUST               719624 non-null int64\n",
      "SEMIO_ERL                719624 non-null int64\n",
      "SEMIO_KULT               719624 non-null int64\n",
      "SEMIO_RAT                719624 non-null int64\n",
      "SEMIO_KRIT               719624 non-null int64\n",
      "SEMIO_DOM                719624 non-null int64\n",
      "SEMIO_KAEM               719624 non-null int64\n",
      "SEMIO_PFLICHT            719624 non-null int64\n",
      "SEMIO_TRADV              719624 non-null int64\n",
      "SOHO_KZ                  719624 non-null float64\n",
      "ANZ_PERSONEN             719624 non-null float64\n",
      "ANZ_TITEL                719624 non-null float64\n",
      "HH_EINKOMMEN_SCORE       719624 non-null float64\n",
      "W_KEIT_KIND_HH           679842 non-null float64\n",
      "WOHNDAUER_2008           719624 non-null float64\n",
      "ANZ_HAUSHALTE_AKTIV      716979 non-null float64\n",
      "ANZ_HH_TITEL             719021 non-null float64\n",
      "KONSUMNAEHE              719580 non-null float64\n",
      "MIN_GEBAEUDEJAHR         719624 non-null float64\n",
      "OST_WEST_KZ              719624 non-null int64\n",
      "KBA05_ANTG1              719624 non-null float64\n",
      "KBA05_ANTG2              719624 non-null float64\n",
      "KBA05_ANTG3              719624 non-null float64\n",
      "KBA05_ANTG4              719624 non-null float64\n",
      "KBA05_GBZ                719624 non-null float64\n",
      "BALLRAUM                 719182 non-null float64\n",
      "EWDICHTE                 719182 non-null float64\n",
      "INNENSTADT               719182 non-null float64\n",
      "GEBAEUDETYP_RASTER       719619 non-null float64\n",
      "KKK                      680882 non-null float64\n",
      "MOBI_REGIO               719624 non-null float64\n",
      "ONLINE_AFFINITAET        719624 non-null float64\n",
      "REGIOTYP                 680882 non-null float64\n",
      "KBA13_ANZAHL_PKW         718982 non-null float64\n",
      "PLZ8_ANTG1               719624 non-null float64\n",
      "PLZ8_ANTG2               719624 non-null float64\n",
      "PLZ8_ANTG3               719624 non-null float64\n",
      "PLZ8_ANTG4               719624 non-null float64\n",
      "PLZ8_HHZ                 719624 non-null float64\n",
      "PLZ8_GBZ                 719624 non-null float64\n",
      "ARBEIT                   716017 non-null float64\n",
      "ORTSGR_KLS9              716093 non-null float64\n",
      "RELAT_AB                 716017 non-null float64\n",
      "decade                   712260 non-null float64\n",
      "movement                 712260 non-null float64\n",
      "wealth                   716567 non-null float64\n",
      "lifestage                716567 non-null float64\n",
      "dtypes: float64(40), int64(23)\n",
      "memory usage: 351.4 MB\n"
     ]
    }
   ],
   "source": [
    "# Do whatever you need to in order to ensure that the dataframe only contains\n",
    "# the columns that should be passed to the algorithm functions.\n",
    "azdias_dropmixed.info()\n",
    "\n"
   ]
  },
  {
   "cell_type": "markdown",
   "metadata": {},
   "source": [
    "### Step 1.3: Create a Cleaning Function\n",
    "\n",
    "Even though you've finished cleaning up the general population demographics data, it's important to look ahead to the future and realize that you'll need to perform the same cleaning steps on the customer demographics data. In this substep, complete the function below to execute the main feature selection, encoding, and re-engineering steps you performed above. Then, when it comes to looking at the customer data in Step 3, you can just run this function on that DataFrame to get the trimmed dataset in a single step."
   ]
  },
  {
   "cell_type": "code",
   "execution_count": 57,
   "metadata": {},
   "outputs": [],
   "source": [
    "def clean_data(df):\n",
    "    \"\"\"\n",
    "    Perform feature trimming, re-encoding, and engineering for demographics\n",
    "    data\n",
    "    \n",
    "    INPUT: Demographics DataFrame\n",
    "    OUTPUT: Trimmed and cleaned demographics DataFrame\n",
    "    \"\"\"\n",
    "    \n",
    "    # Put in code here to execute all main cleaning steps:\n",
    "    # convert missing value codes into NaNs, ...\n",
    "    \n",
    "    \n",
    "    # remove selected columns and rows, ...\n",
    "\n",
    "    \n",
    "    # select, re-encode, and engineer column values.\n",
    "\n",
    "    \n",
    "    # Return the cleaned dataframe.\n",
    "    \n",
    "    "
   ]
  },
  {
   "cell_type": "markdown",
   "metadata": {},
   "source": [
    "## Step 2: Feature Transformation\n",
    "\n",
    "### Step 2.1: Apply Feature Scaling\n",
    "\n",
    "Before we apply dimensionality reduction techniques to the data, we need to perform feature scaling so that the principal component vectors are not influenced by the natural differences in scale for features. Starting from this part of the project, you'll want to keep an eye on the [API reference page for sklearn](http://scikit-learn.org/stable/modules/classes.html) to help you navigate to all of the classes and functions that you'll need. In this substep, you'll need to check the following:\n",
    "\n",
    "- sklearn requires that data not have missing values in order for its estimators to work properly. So, before applying the scaler to your data, make sure that you've cleaned the DataFrame of the remaining missing values. This can be as simple as just removing all data points with missing data, or applying an [Imputer](http://scikit-learn.org/stable/modules/generated/sklearn.preprocessing.Imputer.html) to replace all missing values. You might also try a more complicated procedure where you temporarily remove missing values in order to compute the scaling parameters before re-introducing those missing values and applying imputation. Think about how much missing data you have and what possible effects each approach might have on your analysis, and justify your decision in the discussion section below.\n",
    "- For the actual scaling function, a [StandardScaler](http://scikit-learn.org/stable/modules/generated/sklearn.preprocessing.StandardScaler.html) instance is suggested, scaling each feature to mean 0 and standard deviation 1.\n",
    "- For these classes, you can make use of the `.fit_transform()` method to both fit a procedure to the data as well as apply the transformation to the data at the same time. Don't forget to keep the fit sklearn objects handy, since you'll be applying them to the customer demographics data towards the end of the project."
   ]
  },
  {
   "cell_type": "code",
   "execution_count": 58,
   "metadata": {},
   "outputs": [],
   "source": [
    "# If you've not yet cleaned the dataset of all NaN values, then investigate and\n",
    "# do that now.\n",
    "azdias_nonans = azdias_dropmixed.copy()\n",
    "azdias_nonans = azdias_nonans.dropna()\n",
    "\n"
   ]
  },
  {
   "cell_type": "code",
   "execution_count": 59,
   "metadata": {},
   "outputs": [],
   "source": [
    "# Apply feature scaling to the general population demographics data.\n",
    "from sklearn.preprocessing import StandardScaler\n",
    "scaler = StandardScaler()\n",
    "azdias_scaled = azdias_nonans.copy()\n",
    "azdias_scaled = scaler.fit_transform(azdias_scaled)"
   ]
  },
  {
   "cell_type": "markdown",
   "metadata": {},
   "source": [
    "### Discussion 2.1: Apply Feature Scaling\n",
    "\n",
    "(Double-click this cell and replace this text with your own text, reporting your decisions regarding feature scaling.)"
   ]
  },
  {
   "cell_type": "markdown",
   "metadata": {},
   "source": [
    "### Step 2.2: Perform Dimensionality Reduction\n",
    "\n",
    "On your scaled data, you are now ready to apply dimensionality reduction techniques.\n",
    "\n",
    "- Use sklearn's [PCA](http://scikit-learn.org/stable/modules/generated/sklearn.decomposition.PCA.html) class to apply principal component analysis on the data, thus finding the vectors of maximal variance in the data. To start, you should not set any parameters (so all components are computed) or set a number of components that is at least half the number of features (so there's enough features to see the general trend in variability).\n",
    "- Check out the ratio of variance explained by each principal component as well as the cumulative variance explained. Try plotting the cumulative or sequential values using matplotlib's [`plot()`](https://matplotlib.org/api/_as_gen/matplotlib.pyplot.plot.html) function. Based on what you find, select a value for the number of transformed features you'll retain for the clustering part of the project.\n",
    "- Once you've made a choice for the number of components to keep, make sure you re-fit a PCA instance to perform the decided-on transformation."
   ]
  },
  {
   "cell_type": "code",
   "execution_count": 60,
   "metadata": {},
   "outputs": [
    {
     "data": {
      "text/plain": [
       "(623211, 63)"
      ]
     },
     "execution_count": 60,
     "metadata": {},
     "output_type": "execute_result"
    }
   ],
   "source": [
    "azdias_scaled.shape"
   ]
  },
  {
   "cell_type": "code",
   "execution_count": 162,
   "metadata": {},
   "outputs": [],
   "source": [
    "# Investigate the variance accounted for by each principal component.\n",
    "def plot(pca):\n",
    "    numcomp = len(pca.explained_variance_ratio_)\n",
    "    components = np.arange(numcomp)+1\n",
    "    variances = pca.explained_variance_ratio_ * 100\n",
    "    plt.figure(figsize=(10,5))\n",
    "    plt.stem(components,variances)\n",
    "    plt.xlabel('Component')\n",
    "    plt.ylabel('Variance %')\n",
    "    plt.xticks(np.arange(1, numcomp+1, 1)) \n",
    "    plt.yticks(np.arange(0, 22, 2)) \n",
    "    plt.show()\n",
    "    cumvar = np.cumsum(variances)\n",
    "    plt.figure(figsize=(10,5))\n",
    "    plt.plot(components, cumvar, 'ro')\n",
    "    plt.hlines(cumvar, 0, components, color='blue')\n",
    "    plt.xlabel('Component')\n",
    "    plt.ylabel('Accumulated Variance %')\n",
    "    plt.xticks(np.arange(1, numcomp+1, 1)) \n",
    "    plt.yticks(np.arange(0, 110, 10))\n",
    "    plt.show()    "
   ]
  },
  {
   "cell_type": "code",
   "execution_count": 163,
   "metadata": {},
   "outputs": [
    {
     "data": {
      "text/plain": [
       "(623211, 35)"
      ]
     },
     "execution_count": 163,
     "metadata": {},
     "output_type": "execute_result"
    }
   ],
   "source": [
    "# Apply PCA to the data.\n",
    "from sklearn.decomposition import PCA\n",
    "pca = PCA(35)\n",
    "X_pca = pca.fit_transform(azdias_scaled)\n",
    "\n",
    "X_pca.shape"
   ]
  },
  {
   "cell_type": "code",
   "execution_count": 164,
   "metadata": {},
   "outputs": [
    {
     "data": {
      "image/png": "[encoded data removed]",
      "text/plain": [
       "<matplotlib.figure.Figure at 0x7fe8cd4887f0>"
      ]
     },
     "metadata": {
      "needs_background": "light"
     },
     "output_type": "display_data"
    },
    {
     "data": {
      "image/png": "[encoded data removed]",
      "text/plain": [
       "<matplotlib.figure.Figure at 0x7fe8cd5c8828>"
      ]
     },
     "metadata": {
      "needs_background": "light"
     },
     "output_type": "display_data"
    }
   ],
   "source": [
    "plot(pca)"
   ]
  },
  {
   "cell_type": "code",
   "execution_count": 165,
   "metadata": {},
   "outputs": [
    {
     "data": {
      "text/plain": [
       "(623211, 20)"
      ]
     },
     "execution_count": 165,
     "metadata": {},
     "output_type": "execute_result"
    }
   ],
   "source": [
    "# Re-apply PCA to the data while selecting for number of components to retain.\n",
    "pca = PCA(20)\n",
    "X_pca = pca.fit_transform(azdias_scaled)\n",
    "\n",
    "X_pca.shape\n",
    "\n"
   ]
  },
  {
   "cell_type": "code",
   "execution_count": 166,
   "metadata": {},
   "outputs": [
    {
     "data": {
      "image/png": "[encoded data removed]",
      "text/plain": [
       "<matplotlib.figure.Figure at 0x7fe8cd45cf28>"
      ]
     },
     "metadata": {
      "needs_background": "light"
     },
     "output_type": "display_data"
    },
    {
     "data": {
      "image/png": "[encoded data removed]",
      "text/plain": [
       "<matplotlib.figure.Figure at 0x7fe8ccfa1518>"
      ]
     },
     "metadata": {
      "needs_background": "light"
     },
     "output_type": "display_data"
    }
   ],
   "source": [
    "plot(pca)"
   ]
  },
  {
   "cell_type": "markdown",
   "metadata": {},
   "source": [
    "### Discussion 2.2: Perform Dimensionality Reduction\n",
    "\n",
    "(Double-click this cell and replace this text with your own text, reporting your findings and decisions regarding dimensionality reduction. How many principal components / transformed features are you retaining for the next step of the analysis?)"
   ]
  },
  {
   "cell_type": "markdown",
   "metadata": {},
   "source": [
    "### Step 2.3: Interpret Principal Components\n",
    "\n",
    "Now that we have our transformed principal components, it's a nice idea to check out the weight of each variable on the first few components to see if they can be interpreted in some fashion.\n",
    "\n",
    "As a reminder, each principal component is a unit vector that points in the direction of highest variance (after accounting for the variance captured by earlier principal components). The further a weight is from zero, the more the principal component is in the direction of the corresponding feature. If two features have large weights of the same sign (both positive or both negative), then increases in one tend expect to be associated with increases in the other. To contrast, features with different signs can be expected to show a negative correlation: increases in one variable should result in a decrease in the other.\n",
    "\n",
    "- To investigate the features, you should map each weight to their corresponding feature name, then sort the features according to weight. The most interesting features for each principal component, then, will be those at the beginning and end of the sorted list. Use the data dictionary document to help you understand these most prominent features, their relationships, and what a positive or negative value on the principal component might indicate.\n",
    "- You should investigate and interpret feature associations from the first three principal components in this substep. To help facilitate this, you should write a function that you can call at any time to print the sorted list of feature weights, for the *i*-th principal component. This might come in handy in the next step of the project, when you interpret the tendencies of the discovered clusters."
   ]
  },
  {
   "cell_type": "code",
   "execution_count": 67,
   "metadata": {},
   "outputs": [],
   "source": [
    "# Map weights for the first principal component to corresponding feature names\n",
    "# and then print the linked values, sorted by weight.\n",
    "# HINT: Try defining a function here or in a new cell that you can reuse in the\n",
    "# other cells.\n",
    "def feature_weights(df, pca, comp):\n",
    "    weights = []\n",
    "    features = []\n",
    "    for i in range(len(pca.components_[comp])):\n",
    "        weights.append(pca.components_[comp][i])\n",
    "        features.append(df.columns[i])\n",
    "    feattup = tuple(features)\n",
    "    weigtup = tuple(weights)\n",
    "    x=zip(feattup,weigtup)\n",
    "    pairs = list(x)\n",
    "    sorted_by_weight = sorted(pairs, key=lambda tup: tup[1])\n",
    "    for i in range(len(pca.components_[comp])):\n",
    "        print(sorted_by_weight[i][0] , sorted_by_weight[i][1])\n"
   ]
  },
  {
   "cell_type": "code",
   "execution_count": 68,
   "metadata": {},
   "outputs": [
    {
     "name": "stdout",
     "output_type": "stream",
     "text": [
      "MOBI_REGIO -0.232884769506\n",
      "FINANZ_MINIMALIST -0.222668815315\n",
      "KBA05_ANTG1 -0.218205889395\n",
      "PLZ8_ANTG1 -0.215253246606\n",
      "KBA05_GBZ -0.207933410343\n",
      "PLZ8_GBZ -0.162624532791\n",
      "KONSUMNAEHE -0.155979765753\n",
      "INNENSTADT -0.153991296018\n",
      "ALTERSKATEGORIE_GROB -0.148277444695\n",
      "FINANZ_VORSORGER -0.136812023392\n",
      "lifestage -0.1259640756\n",
      "BALLRAUM -0.116854189108\n",
      "GREEN_AVANTGARDE -0.115297489783\n",
      "movement -0.115297489783\n",
      "GEBAEUDETYP_RASTER -0.110672614171\n",
      "SEMIO_LUST -0.106268765316\n",
      "SEMIO_ERL -0.105438538594\n",
      "KBA13_ANZAHL_PKW -0.0784899404067\n",
      "ANZ_PERSONEN -0.0769545805812\n",
      "WOHNDAUER_2008 -0.0693943869935\n",
      "RETOURTYP_BK_S -0.03889387021\n",
      "MIN_GEBAEUDEJAHR -0.0342645724351\n",
      "SEMIO_VERT -0.0251717815783\n",
      "ONLINE_AFFINITAET -0.0237572716698\n",
      "SEMIO_KRIT -0.00763722296074\n",
      "ANZ_TITEL -0.00594862177703\n",
      "ANREDE_KZ -0.00375994814307\n",
      "SOHO_KZ -0.0020566539414\n",
      "KBA05_ANTG2 0.00787067239607\n",
      "SEMIO_DOM 0.0131748680909\n",
      "W_KEIT_KIND_HH 0.0235191662962\n",
      "SEMIO_KAEM 0.0268861266078\n",
      "ANZ_HH_TITEL 0.0306421099112\n",
      "PLZ8_HHZ 0.0355915850749\n",
      "HEALTH_TYP 0.038165726429\n",
      "KKK 0.0456774812794\n",
      "SEMIO_SOZ 0.0526581834345\n",
      "OST_WEST_KZ 0.0601152883754\n",
      "REGIOTYP 0.0722539827372\n",
      "FINANZ_ANLEGER 0.0877107998821\n",
      "SEMIO_KULT 0.0931025140999\n",
      "SEMIO_FAM 0.0948205057114\n",
      "FINANZ_UNAUFFAELLIGER 0.0951382998341\n",
      "SEMIO_MAT 0.0984516599244\n",
      "SEMIO_RAT 0.110800418797\n",
      "SEMIO_TRADV 0.120787931001\n",
      "RELAT_AB 0.124825021042\n",
      "decade 0.127102840648\n",
      "ANZ_HAUSHALTE_AKTIV 0.129996008345\n",
      "KBA05_ANTG3 0.131470117896\n",
      "SEMIO_REL 0.132124238918\n",
      "SEMIO_PFLICHT 0.134679886733\n",
      "ARBEIT 0.137098233425\n",
      "PLZ8_ANTG2 0.141480061633\n",
      "FINANZ_HAUSBAUER 0.144787757476\n",
      "KBA05_ANTG4 0.146183672689\n",
      "FINANZ_SPARER 0.166199373689\n",
      "EWDICHTE 0.180934666137\n",
      "ORTSGR_KLS9 0.183975133042\n",
      "HH_EINKOMMEN_SCORE 0.195000576456\n",
      "wealth 0.197034340223\n",
      "PLZ8_ANTG4 0.207373450357\n",
      "PLZ8_ANTG3 0.213526833316\n"
     ]
    }
   ],
   "source": [
    "feature_weights(azdias_nonans, pca, 0)"
   ]
  },
  {
   "cell_type": "code",
   "execution_count": 69,
   "metadata": {},
   "outputs": [
    {
     "name": "stdout",
     "output_type": "stream",
     "text": [
      "SEMIO_REL -0.251240649037\n",
      "decade -0.236676646221\n",
      "SEMIO_PFLICHT -0.224663958537\n",
      "SEMIO_TRADV -0.217961245272\n",
      "FINANZ_SPARER -0.217139048086\n",
      "FINANZ_UNAUFFAELLIGER -0.216748729895\n",
      "SEMIO_KULT -0.212210912795\n",
      "FINANZ_ANLEGER -0.193191361408\n",
      "SEMIO_FAM -0.172360779182\n",
      "ONLINE_AFFINITAET -0.163016629572\n",
      "SEMIO_RAT -0.159775392968\n",
      "SEMIO_MAT -0.145268746385\n",
      "PLZ8_ANTG1 -0.117011847061\n",
      "MOBI_REGIO -0.115400088939\n",
      "KBA05_GBZ -0.111689488017\n",
      "KBA05_ANTG1 -0.106067302342\n",
      "SEMIO_SOZ -0.0997383925661\n",
      "PLZ8_GBZ -0.0928342077585\n",
      "INNENSTADT -0.0921484044772\n",
      "KONSUMNAEHE -0.0832026326623\n",
      "BALLRAUM -0.0732191903634\n",
      "SEMIO_VERT -0.0721537806833\n",
      "ANZ_PERSONEN -0.0706104555356\n",
      "GEBAEUDETYP_RASTER -0.0532101352345\n",
      "HEALTH_TYP -0.0498334204564\n",
      "KBA13_ANZAHL_PKW -0.0462009789383\n",
      "GREEN_AVANTGARDE -0.0312424486017\n",
      "movement -0.0312424486017\n",
      "MIN_GEBAEUDEJAHR -0.0312262856114\n",
      "lifestage -0.0173431387105\n",
      "KBA05_ANTG2 -0.00815788572625\n",
      "SOHO_KZ -0.00245662962739\n",
      "ANZ_TITEL 0.00668470735606\n",
      "KKK 0.0107176869592\n",
      "PLZ8_HHZ 0.0148715111537\n",
      "REGIOTYP 0.0314022841411\n",
      "ANZ_HH_TITEL 0.0329365948539\n",
      "OST_WEST_KZ 0.0376521169068\n",
      "FINANZ_MINIMALIST 0.0400890752536\n",
      "WOHNDAUER_2008 0.0523691775923\n",
      "KBA05_ANTG3 0.0624680541735\n",
      "HH_EINKOMMEN_SCORE 0.0690788275906\n",
      "SEMIO_DOM 0.0708139544414\n",
      "ANZ_HAUSHALTE_AKTIV 0.0736936006768\n",
      "RELAT_AB 0.0780621080231\n",
      "PLZ8_ANTG2 0.0782429533767\n",
      "KBA05_ANTG4 0.0831554156587\n",
      "ARBEIT 0.0835050643783\n",
      "ANREDE_KZ 0.0909924284293\n",
      "wealth 0.0932233578269\n",
      "ORTSGR_KLS9 0.110876101301\n",
      "EWDICHTE 0.111007885959\n",
      "PLZ8_ANTG4 0.113413433013\n",
      "SEMIO_KAEM 0.116047162543\n",
      "PLZ8_ANTG3 0.118327064966\n",
      "W_KEIT_KIND_HH 0.119938664422\n",
      "SEMIO_KRIT 0.122143036948\n",
      "FINANZ_HAUSBAUER 0.13155577981\n",
      "RETOURTYP_BK_S 0.160887635093\n",
      "SEMIO_LUST 0.169037449002\n",
      "FINANZ_VORSORGER 0.213453696265\n",
      "SEMIO_ERL 0.224490348998\n",
      "ALTERSKATEGORIE_GROB 0.245107507777\n"
     ]
    }
   ],
   "source": [
    "# Map weights for the second principal component to corresponding feature names\n",
    "# and then print the linked values, sorted by weight.\n",
    "feature_weights(azdias_nonans, pca, 1)\n",
    "\n"
   ]
  },
  {
   "cell_type": "code",
   "execution_count": 70,
   "metadata": {},
   "outputs": [
    {
     "name": "stdout",
     "output_type": "stream",
     "text": [
      "ANREDE_KZ -0.367249184124\n",
      "SEMIO_KAEM -0.336876105706\n",
      "SEMIO_DOM -0.312861881911\n",
      "SEMIO_KRIT -0.269134011291\n",
      "SEMIO_RAT -0.218878473365\n",
      "FINANZ_ANLEGER -0.18864929352\n",
      "SEMIO_ERL -0.169305256597\n",
      "decade -0.108232890949\n",
      "FINANZ_SPARER -0.101765548524\n",
      "FINANZ_UNAUFFAELLIGER -0.0932450711091\n",
      "SEMIO_TRADV -0.0863090731633\n",
      "SEMIO_PFLICHT -0.0772389700929\n",
      "ONLINE_AFFINITAET -0.0559529152182\n",
      "FINANZ_HAUSBAUER -0.046862488924\n",
      "PLZ8_ANTG1 -0.0465768924209\n",
      "INNENSTADT -0.0450429178188\n",
      "KONSUMNAEHE -0.0395383732436\n",
      "PLZ8_GBZ -0.0378685999576\n",
      "BALLRAUM -0.0370277884626\n",
      "GEBAEUDETYP_RASTER -0.0313788813266\n",
      "MOBI_REGIO -0.0311461260549\n",
      "KBA05_GBZ -0.0282158435527\n",
      "HH_EINKOMMEN_SCORE -0.0256447820404\n",
      "KBA05_ANTG1 -0.0239696256721\n",
      "KBA13_ANZAHL_PKW -0.021779169313\n",
      "KKK -0.0167673289606\n",
      "KBA05_ANTG2 -0.0121084021773\n",
      "HEALTH_TYP -0.0119848062536\n",
      "MIN_GEBAEUDEJAHR -0.0105894764417\n",
      "lifestage -0.00947345943009\n",
      "ANZ_PERSONEN -0.00603839454928\n",
      "REGIOTYP -0.00498628008134\n",
      "SOHO_KZ 0.000481262340532\n",
      "PLZ8_HHZ 0.00657036673052\n",
      "KBA05_ANTG3 0.00743670794301\n",
      "ANZ_TITEL 0.0104463950462\n",
      "OST_WEST_KZ 0.0127691728716\n",
      "ANZ_HH_TITEL 0.0146076574486\n",
      "wealth 0.0252443534354\n",
      "ANZ_HAUSHALTE_AKTIV 0.02707342574\n",
      "KBA05_ANTG4 0.0295759651176\n",
      "PLZ8_ANTG2 0.0305461803826\n",
      "RELAT_AB 0.0315420469527\n",
      "ARBEIT 0.0332870504527\n",
      "WOHNDAUER_2008 0.0349983090317\n",
      "PLZ8_ANTG3 0.0462420264794\n",
      "PLZ8_ANTG4 0.0467944466029\n",
      "ORTSGR_KLS9 0.0490087439628\n",
      "EWDICHTE 0.0491757067853\n",
      "SEMIO_MAT 0.0494934695806\n",
      "GREEN_AVANTGARDE 0.0506552359044\n",
      "movement 0.0506552359044\n",
      "SEMIO_LUST 0.0737951397232\n",
      "SEMIO_REL 0.0762969041273\n",
      "ALTERSKATEGORIE_GROB 0.0829751931227\n",
      "W_KEIT_KIND_HH 0.0951468027011\n",
      "FINANZ_VORSORGER 0.098537261345\n",
      "RETOURTYP_BK_S 0.116228996879\n",
      "FINANZ_MINIMALIST 0.156568410907\n",
      "SEMIO_KULT 0.231280111635\n",
      "SEMIO_FAM 0.251228004143\n",
      "SEMIO_SOZ 0.263304713905\n",
      "SEMIO_VERT 0.348005905429\n"
     ]
    }
   ],
   "source": [
    "# Map weights for the third principal component to corresponding feature names\n",
    "# and then print the linked values, sorted by weight.\n",
    "feature_weights(azdias_nonans, pca, 2)\n",
    "\n"
   ]
  },
  {
   "cell_type": "markdown",
   "metadata": {},
   "source": [
    "### Discussion 2.3: Interpret Principal Components\n",
    "\n",
    "(Double-click this cell and replace this text with your own text, reporting your observations from detailed investigation of the first few principal components generated. Can we interpret positive and negative values from them in a meaningful way?)"
   ]
  },
  {
   "cell_type": "markdown",
   "metadata": {},
   "source": [
    "## Step 3: Clustering\n",
    "\n",
    "### Step 3.1: Apply Clustering to General Population\n",
    "\n",
    "You've assessed and cleaned the demographics data, then scaled and transformed them. Now, it's time to see how the data clusters in the principal components space. In this substep, you will apply k-means clustering to the dataset and use the average within-cluster distances from each point to their assigned cluster's centroid to decide on a number of clusters to keep.\n",
    "\n",
    "- Use sklearn's [KMeans](http://scikit-learn.org/stable/modules/generated/sklearn.cluster.KMeans.html#sklearn.cluster.KMeans) class to perform k-means clustering on the PCA-transformed data.\n",
    "- Then, compute the average difference from each point to its assigned cluster's center. **Hint**: The KMeans object's `.score()` method might be useful here, but note that in sklearn, scores tend to be defined so that larger is better. Try applying it to a small, toy dataset, or use an internet search to help your understanding.\n",
    "- Perform the above two steps for a number of different cluster counts. You can then see how the average distance decreases with an increasing number of clusters. However, each additional cluster provides a smaller net benefit. Use this fact to select a final number of clusters in which to group the data. **Warning**: because of the large size of the dataset, it can take a long time for the algorithm to resolve. The more clusters to fit, the longer the algorithm will take. You should test for cluster counts through at least 10 clusters to get the full picture, but you shouldn't need to test for a number of clusters above about 30.\n",
    "- Once you've selected a final number of clusters to use, re-fit a KMeans instance to perform the clustering operation. Make sure that you also obtain the cluster assignments for the general demographics data, since you'll be using them in the final Step 3.3."
   ]
  },
  {
   "cell_type": "code",
   "execution_count": 71,
   "metadata": {},
   "outputs": [],
   "source": [
    "# Over a number of different cluster counts...\n",
    "\n",
    "\n",
    "    # run k-means clustering on the data and...\n",
    "    \n",
    "    \n",
    "    # compute the average within-cluster distances.\n",
    "    \n",
    "    "
   ]
  },
  {
   "cell_type": "code",
   "execution_count": 72,
   "metadata": {},
   "outputs": [],
   "source": [
    "# Investigate the change in within-cluster distance across number of clusters.\n",
    "# HINT: Use matplotlib's plot function to visualize this relationship.\n",
    "\n"
   ]
  },
  {
   "cell_type": "code",
   "execution_count": 73,
   "metadata": {},
   "outputs": [],
   "source": [
    "# Re-fit the k-means model with the selected number of clusters and obtain\n",
    "# cluster predictions for the general population demographics data.\n",
    "\n"
   ]
  },
  {
   "cell_type": "markdown",
   "metadata": {},
   "source": [
    "### Discussion 3.1: Apply Clustering to General Population\n",
    "\n",
    "(Double-click this cell and replace this text with your own text, reporting your findings and decisions regarding clustering. Into how many clusters have you decided to segment the population?)"
   ]
  },
  {
   "cell_type": "markdown",
   "metadata": {},
   "source": [
    "### Step 3.2: Apply All Steps to the Customer Data\n",
    "\n",
    "Now that you have clusters and cluster centers for the general population, it's time to see how the customer data maps on to those clusters. Take care to not confuse this for re-fitting all of the models to the customer data. Instead, you're going to use the fits from the general population to clean, transform, and cluster the customer data. In the last step of the project, you will interpret how the general population fits apply to the customer data.\n",
    "\n",
    "- Don't forget when loading in the customers data, that it is semicolon (`;`) delimited.\n",
    "- Apply the same feature wrangling, selection, and engineering steps to the customer demographics using the `clean_data()` function you created earlier. (You can assume that the customer demographics data has similar meaning behind missing data patterns as the general demographics data.)\n",
    "- Use the sklearn objects from the general demographics data, and apply their transformations to the customers data. That is, you should not be using a `.fit()` or `.fit_transform()` method to re-fit the old objects, nor should you be creating new sklearn objects! Carry the data through the feature scaling, PCA, and clustering steps, obtaining cluster assignments for all of the data in the customer demographics data."
   ]
  },
  {
   "cell_type": "code",
   "execution_count": 74,
   "metadata": {},
   "outputs": [
    {
     "ename": "SyntaxError",
     "evalue": "invalid syntax (<ipython-input-74-416d584d1460>, line 2)",
     "output_type": "error",
     "traceback": [
      "\u001b[0;36m  File \u001b[0;32m\"<ipython-input-74-416d584d1460>\"\u001b[0;36m, line \u001b[0;32m2\u001b[0m\n\u001b[0;31m    customers =\u001b[0m\n\u001b[0m                ^\u001b[0m\n\u001b[0;31mSyntaxError\u001b[0m\u001b[0;31m:\u001b[0m invalid syntax\n"
     ]
    }
   ],
   "source": [
    "# Load in the customer demographics data.\n",
    "customers = "
   ]
  },
  {
   "cell_type": "code",
   "execution_count": null,
   "metadata": {},
   "outputs": [],
   "source": [
    "# Apply preprocessing, feature transformation, and clustering from the general\n",
    "# demographics onto the customer data, obtaining cluster predictions for the\n",
    "# customer demographics data.\n",
    "\n"
   ]
  },
  {
   "cell_type": "markdown",
   "metadata": {},
   "source": [
    "### Step 3.3: Compare Customer Data to Demographics Data\n",
    "\n",
    "At this point, you have clustered data based on demographics of the general population of Germany, and seen how the customer data for a mail-order sales company maps onto those demographic clusters. In this final substep, you will compare the two cluster distributions to see where the strongest customer base for the company is.\n",
    "\n",
    "Consider the proportion of persons in each cluster for the general population, and the proportions for the customers. If we think the company's customer base to be universal, then the cluster assignment proportions should be fairly similar between the two. If there are only particular segments of the population that are interested in the company's products, then we should see a mismatch from one to the other. If there is a higher proportion of persons in a cluster for the customer data compared to the general population (e.g. 5% of persons are assigned to a cluster for the general population, but 15% of the customer data is closest to that cluster's centroid) then that suggests the people in that cluster to be a target audience for the company. On the other hand, the proportion of the data in a cluster being larger in the general population than the customer data (e.g. only 2% of customers closest to a population centroid that captures 6% of the data) suggests that group of persons to be outside of the target demographics.\n",
    "\n",
    "Take a look at the following points in this step:\n",
    "\n",
    "- Compute the proportion of data points in each cluster for the general population and the customer data. Visualizations will be useful here: both for the individual dataset proportions, but also to visualize the ratios in cluster representation between groups. Seaborn's [`countplot()`](https://seaborn.pydata.org/generated/seaborn.countplot.html) or [`barplot()`](https://seaborn.pydata.org/generated/seaborn.barplot.html) function could be handy.\n",
    "  - Recall the analysis you performed in step 1.1.3 of the project, where you separated out certain data points from the dataset if they had more than a specified threshold of missing values. If you found that this group was qualitatively different from the main bulk of the data, you should treat this as an additional data cluster in this analysis. Make sure that you account for the number of data points in this subset, for both the general population and customer datasets, when making your computations!\n",
    "- Which cluster or clusters are overrepresented in the customer dataset compared to the general population? Select at least one such cluster and infer what kind of people might be represented by that cluster. Use the principal component interpretations from step 2.3 or look at additional components to help you make this inference. Alternatively, you can use the `.inverse_transform()` method of the PCA and StandardScaler objects to transform centroids back to the original data space and interpret the retrieved values directly.\n",
    "- Perform a similar investigation for the underrepresented clusters. Which cluster or clusters are underrepresented in the customer dataset compared to the general population, and what kinds of people are typified by these clusters?"
   ]
  },
  {
   "cell_type": "code",
   "execution_count": null,
   "metadata": {},
   "outputs": [],
   "source": [
    "# Compare the proportion of data in each cluster for the customer data to the\n",
    "# proportion of data in each cluster for the general population.\n",
    "\n"
   ]
  },
  {
   "cell_type": "code",
   "execution_count": null,
   "metadata": {},
   "outputs": [],
   "source": [
    "# What kinds of people are part of a cluster that is overrepresented in the\n",
    "# customer data compared to the general population?\n",
    "\n"
   ]
  },
  {
   "cell_type": "code",
   "execution_count": null,
   "metadata": {},
   "outputs": [],
   "source": [
    "# What kinds of people are part of a cluster that is underrepresented in the\n",
    "# customer data compared to the general population?\n",
    "\n"
   ]
  },
  {
   "cell_type": "markdown",
   "metadata": {},
   "source": [
    "### Discussion 3.3: Compare Customer Data to Demographics Data\n",
    "\n",
    "(Double-click this cell and replace this text with your own text, reporting findings and conclusions from the clustering analysis. Can we describe segments of the population that are relatively popular with the mail-order company, or relatively unpopular with the company?)"
   ]
  },
  {
   "cell_type": "markdown",
   "metadata": {},
   "source": [
    "> Congratulations on making it this far in the project! Before you finish, make sure to check through the entire notebook from top to bottom to make sure that your analysis follows a logical flow and all of your findings are documented in **Discussion** cells. Once you've checked over all of your work, you should export the notebook as an HTML document to submit for evaluation. You can do this from the menu, navigating to **File -> Download as -> HTML (.html)**. You will submit both that document and this notebook for your project submission."
   ]
  },
  {
   "cell_type": "code",
   "execution_count": null,
   "metadata": {},
   "outputs": [],
   "source": []
  }
 ],
 "metadata": {
  "kernelspec": {
   "display_name": "Python 3",
   "language": "python",
   "name": "python3"
  },
  "language_info": {
   "codemirror_mode": {
    "name": "ipython",
    "version": 3
   },
   "file_extension": ".py",
   "mimetype": "text/x-python",
   "name": "python",
   "nbconvert_exporter": "python",
   "pygments_lexer": "ipython3",
   "version": "3.6.3"
  }
 },
 "nbformat": 4,
 "nbformat_minor": 2
}
